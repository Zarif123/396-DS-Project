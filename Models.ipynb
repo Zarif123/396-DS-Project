{
 "cells": [
  {
   "cell_type": "code",
   "execution_count": 1,
   "metadata": {},
   "outputs": [],
   "source": [
    "import pandas as pd\n",
    "import numpy as np\n",
    "import matplotlib.pyplot as plt\n",
    "from imblearn.under_sampling import RandomUnderSampler\n",
    "from sklearn import tree\n",
    "from sklearn.neighbors import KNeighborsClassifier\n",
    "from sklearn.ensemble import AdaBoostClassifier, RandomForestClassifier, GradientBoostingClassifier \n",
    "from sklearn.model_selection import train_test_split, cross_validate, cross_val_score, GridSearchCV\n",
    "from sklearn.linear_model import LogisticRegression\n",
    "from sklearn.preprocessing import StandardScaler\n",
    "from sklearn.metrics import f1_score, recall_score"
   ]
  },
  {
   "cell_type": "code",
   "execution_count": 2,
   "metadata": {},
   "outputs": [],
   "source": [
    "df = pd.read_csv('data/heart_2020_cleaned_binary.csv')"
   ]
  },
  {
   "cell_type": "code",
   "execution_count": 3,
   "metadata": {},
   "outputs": [
    {
     "data": {
      "text/html": [
       "<div>\n",
       "<style scoped>\n",
       "    .dataframe tbody tr th:only-of-type {\n",
       "        vertical-align: middle;\n",
       "    }\n",
       "\n",
       "    .dataframe tbody tr th {\n",
       "        vertical-align: top;\n",
       "    }\n",
       "\n",
       "    .dataframe thead th {\n",
       "        text-align: right;\n",
       "    }\n",
       "</style>\n",
       "<table border=\"1\" class=\"dataframe\">\n",
       "  <thead>\n",
       "    <tr style=\"text-align: right;\">\n",
       "      <th></th>\n",
       "      <th>Unnamed: 0</th>\n",
       "      <th>HeartDisease</th>\n",
       "      <th>BMI</th>\n",
       "      <th>Smoking</th>\n",
       "      <th>AlcoholDrinking</th>\n",
       "      <th>Stroke</th>\n",
       "      <th>PhysicalHealth</th>\n",
       "      <th>MentalHealth</th>\n",
       "      <th>DiffWalking</th>\n",
       "      <th>Sex</th>\n",
       "      <th>...</th>\n",
       "      <th>Asian</th>\n",
       "      <th>Black</th>\n",
       "      <th>Hispanic</th>\n",
       "      <th>Other</th>\n",
       "      <th>White</th>\n",
       "      <th>Excellent_Health</th>\n",
       "      <th>Fair_Health</th>\n",
       "      <th>Good_Health</th>\n",
       "      <th>Poor_Health</th>\n",
       "      <th>Very_Good_Health</th>\n",
       "    </tr>\n",
       "  </thead>\n",
       "  <tbody>\n",
       "    <tr>\n",
       "      <th>0</th>\n",
       "      <td>0</td>\n",
       "      <td>0</td>\n",
       "      <td>16.60</td>\n",
       "      <td>1</td>\n",
       "      <td>0</td>\n",
       "      <td>0</td>\n",
       "      <td>3.0</td>\n",
       "      <td>30.0</td>\n",
       "      <td>0</td>\n",
       "      <td>0</td>\n",
       "      <td>...</td>\n",
       "      <td>0</td>\n",
       "      <td>0</td>\n",
       "      <td>0</td>\n",
       "      <td>0</td>\n",
       "      <td>1</td>\n",
       "      <td>0</td>\n",
       "      <td>0</td>\n",
       "      <td>0</td>\n",
       "      <td>0</td>\n",
       "      <td>1</td>\n",
       "    </tr>\n",
       "    <tr>\n",
       "      <th>1</th>\n",
       "      <td>1</td>\n",
       "      <td>0</td>\n",
       "      <td>20.34</td>\n",
       "      <td>0</td>\n",
       "      <td>0</td>\n",
       "      <td>1</td>\n",
       "      <td>0.0</td>\n",
       "      <td>0.0</td>\n",
       "      <td>0</td>\n",
       "      <td>0</td>\n",
       "      <td>...</td>\n",
       "      <td>0</td>\n",
       "      <td>0</td>\n",
       "      <td>0</td>\n",
       "      <td>0</td>\n",
       "      <td>1</td>\n",
       "      <td>0</td>\n",
       "      <td>0</td>\n",
       "      <td>0</td>\n",
       "      <td>0</td>\n",
       "      <td>1</td>\n",
       "    </tr>\n",
       "    <tr>\n",
       "      <th>2</th>\n",
       "      <td>2</td>\n",
       "      <td>0</td>\n",
       "      <td>26.58</td>\n",
       "      <td>1</td>\n",
       "      <td>0</td>\n",
       "      <td>0</td>\n",
       "      <td>20.0</td>\n",
       "      <td>30.0</td>\n",
       "      <td>0</td>\n",
       "      <td>1</td>\n",
       "      <td>...</td>\n",
       "      <td>0</td>\n",
       "      <td>0</td>\n",
       "      <td>0</td>\n",
       "      <td>0</td>\n",
       "      <td>1</td>\n",
       "      <td>0</td>\n",
       "      <td>1</td>\n",
       "      <td>0</td>\n",
       "      <td>0</td>\n",
       "      <td>0</td>\n",
       "    </tr>\n",
       "    <tr>\n",
       "      <th>3</th>\n",
       "      <td>3</td>\n",
       "      <td>0</td>\n",
       "      <td>24.21</td>\n",
       "      <td>0</td>\n",
       "      <td>0</td>\n",
       "      <td>0</td>\n",
       "      <td>0.0</td>\n",
       "      <td>0.0</td>\n",
       "      <td>0</td>\n",
       "      <td>0</td>\n",
       "      <td>...</td>\n",
       "      <td>0</td>\n",
       "      <td>0</td>\n",
       "      <td>0</td>\n",
       "      <td>0</td>\n",
       "      <td>1</td>\n",
       "      <td>0</td>\n",
       "      <td>0</td>\n",
       "      <td>1</td>\n",
       "      <td>0</td>\n",
       "      <td>0</td>\n",
       "    </tr>\n",
       "    <tr>\n",
       "      <th>4</th>\n",
       "      <td>4</td>\n",
       "      <td>0</td>\n",
       "      <td>23.71</td>\n",
       "      <td>0</td>\n",
       "      <td>0</td>\n",
       "      <td>0</td>\n",
       "      <td>28.0</td>\n",
       "      <td>0.0</td>\n",
       "      <td>1</td>\n",
       "      <td>0</td>\n",
       "      <td>...</td>\n",
       "      <td>0</td>\n",
       "      <td>0</td>\n",
       "      <td>0</td>\n",
       "      <td>0</td>\n",
       "      <td>1</td>\n",
       "      <td>0</td>\n",
       "      <td>0</td>\n",
       "      <td>0</td>\n",
       "      <td>0</td>\n",
       "      <td>1</td>\n",
       "    </tr>\n",
       "  </tbody>\n",
       "</table>\n",
       "<p>5 rows × 43 columns</p>\n",
       "</div>"
      ],
      "text/plain": [
       "   Unnamed: 0  HeartDisease    BMI  Smoking  AlcoholDrinking  Stroke  \\\n",
       "0           0             0  16.60        1                0       0   \n",
       "1           1             0  20.34        0                0       1   \n",
       "2           2             0  26.58        1                0       0   \n",
       "3           3             0  24.21        0                0       0   \n",
       "4           4             0  23.71        0                0       0   \n",
       "\n",
       "   PhysicalHealth  MentalHealth  DiffWalking  Sex  ...  Asian  Black  \\\n",
       "0             3.0          30.0            0    0  ...      0      0   \n",
       "1             0.0           0.0            0    0  ...      0      0   \n",
       "2            20.0          30.0            0    1  ...      0      0   \n",
       "3             0.0           0.0            0    0  ...      0      0   \n",
       "4            28.0           0.0            1    0  ...      0      0   \n",
       "\n",
       "   Hispanic  Other  White  Excellent_Health  Fair_Health  Good_Health  \\\n",
       "0         0      0      1                 0            0            0   \n",
       "1         0      0      1                 0            0            0   \n",
       "2         0      0      1                 0            1            0   \n",
       "3         0      0      1                 0            0            1   \n",
       "4         0      0      1                 0            0            0   \n",
       "\n",
       "   Poor_Health  Very_Good_Health  \n",
       "0            0                 1  \n",
       "1            0                 1  \n",
       "2            0                 0  \n",
       "3            0                 0  \n",
       "4            0                 1  \n",
       "\n",
       "[5 rows x 43 columns]"
      ]
     },
     "execution_count": 3,
     "metadata": {},
     "output_type": "execute_result"
    }
   ],
   "source": [
    "df.head()"
   ]
  },
  {
   "cell_type": "code",
   "execution_count": 4,
   "metadata": {},
   "outputs": [
    {
     "data": {
      "text/plain": [
       "([<matplotlib.patches.Wedge at 0x20ff2049880>,\n",
       "  <matplotlib.patches.Wedge at 0x20ff2049d60>],\n",
       " [Text(6.735557395310444e-17, 1.1, 'Has Heart Disease'),\n",
       "  Text(-2.0206672185931328e-16, -1.1, 'Does Not Have Heart Disease')])"
      ]
     },
     "execution_count": 4,
     "metadata": {},
     "output_type": "execute_result"
    },
    {
     "data": {
      "image/png": "[encoded data removed]",
      "text/plain": [
       "<Figure size 432x288 with 1 Axes>"
      ]
     },
     "metadata": {},
     "output_type": "display_data"
    }
   ],
   "source": [
    "# Features that will be kept in models\n",
    "keepThese = ['DiffWalking', 'PhysicalHealth', 'Diabetic_Yes', 'Stroke', 'Poor_Health', 'Fair_Health', '80 or older', 'Smoking', 'KidneyDisease']\n",
    "\n",
    "# Separating data into Features and Targets\n",
    "X = df[keepThese]\n",
    "Y = df['HeartDisease']\n",
    "\n",
    "# Balancing the data\n",
    "balancer = RandomUnderSampler()\n",
    "X, Y = balancer.fit_resample(X, Y)\n",
    "\n",
    "# Train-Test-Split\n",
    "X_train, X_test, y_train, y_test = train_test_split(X, Y, test_size=0.20, random_state=42)\n",
    "\n",
    "# Scaling the data for better behavior with models\n",
    "scaler = StandardScaler()\n",
    "X_train = scaler.fit_transform(X_train)\n",
    "X_test = scaler.transform(X_test)\n",
    "\n",
    "# Plotting Balanced Data\n",
    "heart_labels = ['Has Heart Disease', 'Does Not Have Heart Disease']\n",
    "plt.pie([len(df['HeartDisease'] == 1), len(df['HeartDisease'] == 0)], labels = heart_labels)"
   ]
  },
  {
   "cell_type": "code",
   "execution_count": 20,
   "metadata": {},
   "outputs": [],
   "source": [
    "def get_performance(model_type, params, model_name):\n",
    "\n",
    "    # Create Model\n",
    "    model = model_type()\n",
    "    \n",
    "    # Cross Validation of Model\n",
    "    model_cv = cross_validate(model, X_train, y_train, cv=3, scoring='f1')\n",
    "\n",
    "    # Finding Best Parameters\n",
    "    model_clf = GridSearchCV(model, param_grid=params, cv=3, scoring='f1')\n",
    "    model_clf.fit(X_train, y_train)\n",
    "    model_best_params = model_clf.best_params_\n",
    "\n",
    "    # Calculating Performance\n",
    "    model_best = model_type(**model_best_params)\n",
    "    model_best.fit(X_train, y_train)\n",
    "    model_best_preds = model_best.predict(X_test)\n",
    "    model_best_f1 = f1_score(y_test, model_best_preds)\n",
    "    model_best_recall = recall_score(y_test, model_best_preds)\n",
    "\n",
    "    # Displaying Output\n",
    "    print(f\"Cross Validation Accuracy: {model_cv['test_score'].mean()}\")\n",
    "    print(f\"{model_name} GridSearchCV Best Parameters: {model_best_params}\")\n",
    "    print(f\"{model_name} F1 Score: {model_best_f1}\")\n",
    "    print(f\"{model_name} Recall: {model_best_recall}\")"
   ]
  },
  {
   "cell_type": "markdown",
   "metadata": {},
   "source": [
    "### Logistic Regression"
   ]
  },
  {
   "cell_type": "code",
   "execution_count": 21,
   "metadata": {},
   "outputs": [
    {
     "name": "stdout",
     "output_type": "stream",
     "text": [
      "Cross Validation Accuracy: 0.6966853866070251\n",
      "Logistic Regression GridSearchCV Best Parameters: {'C': 100, 'penalty': 'l1', 'solver': 'liblinear'}\n",
      "Logistic Regression F1 Score: 0.7056306525333074\n",
      "Logistic Regression Recall: 0.6577229876722263\n"
     ]
    }
   ],
   "source": [
    "# Parameters\n",
    "params = {'solver': ['liblinear', 'saga'], 'C':[10**i for i in range(0,11)], 'penalty':['l1','l2']}\n",
    "\n",
    "# Performance\n",
    "get_performance(LogisticRegression, params, 'Logistic Regression')"
   ]
  },
  {
   "cell_type": "markdown",
   "metadata": {},
   "source": [
    "### KNN"
   ]
  },
  {
   "cell_type": "code",
   "execution_count": 25,
   "metadata": {},
   "outputs": [
    {
     "name": "stdout",
     "output_type": "stream",
     "text": [
      "Cross Validation Accuracy: 0.6652689294118198\n",
      "KNN GridSearchCV Best Parameters: {'leaf_size': 60, 'n_neighbors': 9}\n",
      "KNN F1 Score: 0.6946679139382601\n",
      "KNN Recall: 0.6731327048585932\n"
     ]
    }
   ],
   "source": [
    "# Parameters\n",
    "params = {'n_neighbors': [i for i in range(5, 11)], 'leaf_size': [i for i in range(30, 70, 10)]}\n",
    "\n",
    "# Performance\n",
    "get_performance(KNeighborsClassifier, params, 'KNN')"
   ]
  },
  {
   "cell_type": "markdown",
   "metadata": {},
   "source": [
    "### Decision Tree"
   ]
  },
  {
   "cell_type": "code",
   "execution_count": 23,
   "metadata": {},
   "outputs": [
    {
     "name": "stdout",
     "output_type": "stream",
     "text": [
      "Cross Validation Accuracy: 0.6948549914860335\n",
      "Decision Tree GridSearchCV Best Parameters: {'criterion': 'entropy', 'max_depth': 13, 'min_samples_leaf': 5, 'min_samples_split': 60}\n",
      "Decision Tree F1 Score: 0.717113783533765\n",
      "Decision Tree Recall: 0.7026831036983321\n"
     ]
    }
   ],
   "source": [
    "# Parameters\n",
    "params = {'criterion' : [\"entropy\"], 'min_samples_split': [i for i in range(30, 70, 10)], 'min_samples_leaf': [i for i in range(2,6,1)], 'max_depth': [i for i in range(12,17,1)]}\n",
    "\n",
    "# Performance\n",
    "get_performance(tree.DecisionTreeClassifier, params, 'Decision Tree')"
   ]
  },
  {
   "cell_type": "markdown",
   "metadata": {},
   "source": [
    "### Ensemble Methods"
   ]
  },
  {
   "cell_type": "code",
   "execution_count": 24,
   "metadata": {},
   "outputs": [
    {
     "name": "stdout",
     "output_type": "stream",
     "text": [
      "AdaBoost F1 Score: 0.706167571761055\n",
      "AdaBoost Recall: 0.6600797679477882\n",
      "RandomForest F1 Score: 0.7121310261867306\n",
      "RandomForest Recall: 0.6976069615663524\n",
      "GradientBoosting F1 Score: 0.7145961265942372\n",
      "GradientBoosting Recall: 0.6856417693981146\n"
     ]
    }
   ],
   "source": [
    "ensemble = [AdaBoostClassifier(), RandomForestClassifier(), GradientBoostingClassifier()]\n",
    "ensemble_names = ['AdaBoost', 'RandomForest', 'GradientBoosting']\n",
    "for i in range(len(ensemble)):\n",
    "    method = ensemble[i]\n",
    "\n",
    "    method.fit(X_train, y_train)\n",
    "    method_preds = method.predict(X_test)\n",
    "    f1 = f1_score(y_test, method_preds)\n",
    "    recall = recall_score(y_test, method_preds)\n",
    "    method.fit(X_train, y_train)\n",
    "\n",
    "    print(f\"{ensemble_names[i]} F1 Score: {f1}\")\n",
    "    print(f\"{ensemble_names[i]} Recall: {recall}\")"
   ]
  }
 ],
 "metadata": {
  "kernelspec": {
   "display_name": "Python 3 (ipykernel)",
   "language": "python",
   "name": "python3"
  },
  "language_info": {
   "codemirror_mode": {
    "name": "ipython",
    "version": 3
   },
   "file_extension": ".py",
   "mimetype": "text/x-python",
   "name": "python",
   "nbconvert_exporter": "python",
   "pygments_lexer": "ipython3",
   "version": "3.9.2"
  },
  "vscode": {
   "interpreter": {
    "hash": "11938c6bc6919ae2720b4d5011047913343b08a43b18698fd82dedb0d4417594"
   }
  }
 },
 "nbformat": 4,
 "nbformat_minor": 2
}
