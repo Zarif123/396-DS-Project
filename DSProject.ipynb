{
  "nbformat": 4,
  "nbformat_minor": 0,
  "metadata": {
    "colab": {
      "provenance": []
    },
    "kernelspec": {
      "name": "python3",
      "display_name": "Python 3"
    },
    "language_info": {
      "name": "python"
    }
  },
  "cells": [
    {
      "cell_type": "code",
      "execution_count": null,
      "metadata": {
        "id": "fRxzIKgLD3YT"
      },
      "outputs": [],
      "source": [
        "import pandas\n",
        "import numpy as np\n",
        "import matplotlib.pyplot as plt"
      ]
    },
    {
      "cell_type": "code",
      "source": [
        "# Make sure the csv is in the same directory\n",
        "df = pandas.read_csv('heart_2020_cleaned.csv')"
      ],
      "metadata": {
        "id": "-PPp24wREOVD"
      },
      "execution_count": null,
      "outputs": []
    },
    {
      "cell_type": "code",
      "source": [
        "print(df.head())"
      ],
      "metadata": {
        "colab": {
          "base_uri": "https://localhost:8080/"
        },
        "id": "WRN1-1NsFnYf",
        "outputId": "4970b1ea-6e73-43ca-dc24-b3d3599f24cc"
      },
      "execution_count": null,
      "outputs": [
        {
          "output_type": "stream",
          "name": "stdout",
          "text": [
            "  HeartDisease    BMI Smoking AlcoholDrinking Stroke  PhysicalHealth  \\\n",
            "0           No  16.60     Yes              No     No             3.0   \n",
            "1           No  20.34      No              No    Yes             0.0   \n",
            "2           No  26.58     Yes              No     No            20.0   \n",
            "3           No  24.21      No              No     No             0.0   \n",
            "4           No  23.71      No              No     No            28.0   \n",
            "\n",
            "   MentalHealth DiffWalking     Sex  AgeCategory   Race Diabetic  \\\n",
            "0          30.0          No  Female        55-59  White      Yes   \n",
            "1           0.0          No  Female  80 or older  White       No   \n",
            "2          30.0          No    Male        65-69  White      Yes   \n",
            "3           0.0          No  Female        75-79  White       No   \n",
            "4           0.0         Yes  Female        40-44  White       No   \n",
            "\n",
            "  PhysicalActivity  GenHealth  SleepTime Asthma KidneyDisease SkinCancer  \n",
            "0              Yes  Very good        5.0    Yes            No        Yes  \n",
            "1              Yes  Very good        7.0     No            No         No  \n",
            "2              Yes       Fair        8.0    Yes            No         No  \n",
            "3               No       Good        6.0     No            No        Yes  \n",
            "4              Yes  Very good        8.0     No            No         No  \n"
          ]
        }
      ]
    },
    {
      "cell_type": "code",
      "source": [
        "df.hist(column='BMI', bins=40)"
      ],
      "metadata": {
        "colab": {
          "base_uri": "https://localhost:8080/",
          "height": 316
        },
        "id": "GSp0VUf3Elxo",
        "outputId": "f4fd93d5-6a34-4859-91fd-4693c20a0a50"
      },
      "execution_count": null,
      "outputs": [
        {
          "output_type": "execute_result",
          "data": {
            "text/plain": [
              "array([[<matplotlib.axes._subplots.AxesSubplot object at 0x7f68b121bc50>]],\n",
              "      dtype=object)"
            ]
          },
          "metadata": {},
          "execution_count": 9
        },
        {
          "output_type": "display_data",
          "data": {
            "text/plain": [
              "<Figure size 432x288 with 1 Axes>"
            ],
            "image/png": "[encoded data removed]"
          },
          "metadata": {
            "needs_background": "light"
          }
        }
      ]
    },
    {
      "cell_type": "code",
      "source": [
        "df['GenHealth'].value_counts().plot(kind='bar')"
      ],
      "metadata": {
        "colab": {
          "base_uri": "https://localhost:8080/",
          "height": 322
        },
        "id": "3IVtdcUKJYcg",
        "outputId": "68e3d6a4-11f5-45e3-a443-486751198f59"
      },
      "execution_count": null,
      "outputs": [
        {
          "output_type": "execute_result",
          "data": {
            "text/plain": [
              "<matplotlib.axes._subplots.AxesSubplot at 0x7f68b385e8d0>"
            ]
          },
          "metadata": {},
          "execution_count": 13
        },
        {
          "output_type": "display_data",
          "data": {
            "text/plain": [
              "<Figure size 432x288 with 1 Axes>"
            ],
            "image/png": "[encoded data removed]"
          },
          "metadata": {
            "needs_background": "light"
          }
        }
      ]
    },
    {
      "cell_type": "code",
      "source": [
        "df.hist(column='PhysicalHealth', bins=40)"
      ],
      "metadata": {
        "colab": {
          "base_uri": "https://localhost:8080/",
          "height": 316
        },
        "id": "suB35G0rIwAB",
        "outputId": "edf45a63-8c2a-4e48-c4a1-54f190aa1b79"
      },
      "execution_count": null,
      "outputs": [
        {
          "output_type": "execute_result",
          "data": {
            "text/plain": [
              "array([[<matplotlib.axes._subplots.AxesSubplot object at 0x7f68a37aa1d0>]],\n",
              "      dtype=object)"
            ]
          },
          "metadata": {},
          "execution_count": 18
        },
        {
          "output_type": "display_data",
          "data": {
            "text/plain": [
              "<Figure size 432x288 with 1 Axes>"
            ],
            "image/png": "[encoded data removed]"
          },
          "metadata": {
            "needs_background": "light"
          }
        }
      ]
    }
  ]
}